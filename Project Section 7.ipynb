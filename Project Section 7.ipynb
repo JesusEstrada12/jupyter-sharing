{
 "cells": [
  {
   "cell_type": "code",
   "execution_count": 24,
   "metadata": {},
   "outputs": [
    {
     "name": "stdout",
     "output_type": "stream",
     "text": [
      "what do you want to eat, chicken or meat? Chicken\n",
      "Fried or natural?.Fried\n",
      "That's a great option.\n"
     ]
    }
   ],
   "source": [
    "tired = input(\"what do you want to eat, chicken or meat? \")\n",
    "if tired in (\"Chicken\"): \n",
    "    x = input(\"Fried or natural?.\") \n",
    "if tired in (\"Meat\"):\n",
    "    print(\"That comes with side salad\")\n",
    "elif x == \"Fried\":\n",
    "    print(\"That's a great option.\")\n",
    "else:\n",
    "    print(\"That comes with side salad\")"
   ]
  },
  {
   "cell_type": "code",
   "execution_count": null,
   "metadata": {},
   "outputs": [],
   "source": []
  },
  {
   "cell_type": "code",
   "execution_count": null,
   "metadata": {},
   "outputs": [],
   "source": []
  }
 ],
 "metadata": {
  "kernelspec": {
   "display_name": "Python 3",
   "language": "python",
   "name": "python3"
  },
  "language_info": {
   "codemirror_mode": {
    "name": "ipython",
    "version": 3
   },
   "file_extension": ".py",
   "mimetype": "text/x-python",
   "name": "python",
   "nbconvert_exporter": "python",
   "pygments_lexer": "ipython3",
   "version": "3.6.5"
  }
 },
 "nbformat": 4,
 "nbformat_minor": 2
}
